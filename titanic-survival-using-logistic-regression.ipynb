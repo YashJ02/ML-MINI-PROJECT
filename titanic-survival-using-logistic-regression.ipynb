{
 "cells": [
  {
   "cell_type": "code",
   "execution_count": 1,
   "id": "d4cec5ff",
   "metadata": {
    "_cell_guid": "b1076dfc-b9ad-4769-8c92-a6c4dae69d19",
    "_uuid": "8f2839f25d086af736a60e9eeb907d3b93b6e0e5",
    "execution": {
     "iopub.execute_input": "2022-11-02T04:31:58.541667Z",
     "iopub.status.busy": "2022-11-02T04:31:58.540676Z",
     "iopub.status.idle": "2022-11-02T04:31:59.990852Z",
     "shell.execute_reply": "2022-11-02T04:31:59.989556Z"
    },
    "papermill": {
     "duration": 1.463103,
     "end_time": "2022-11-02T04:31:59.993604",
     "exception": false,
     "start_time": "2022-11-02T04:31:58.530501",
     "status": "completed"
    },
    "tags": []
   },
   "outputs": [],
   "source": [
    "# Importing needed libraries\n",
    "import pandas as pd\n",
    "import numpy as np\n",
    "import matplotlib.pyplot as plt\n",
    "from sklearn.metrics import mean_absolute_error\n",
    "from sklearn.pipeline import Pipeline, make_pipeline\n",
    "from sklearn.impute import SimpleImputer\n",
    "from category_encoders import OneHotEncoder\n",
    "from sklearn.linear_model import LogisticRegression\n",
    "from sklearn.metrics import accuracy_score\n",
    "import seaborn as sns\n",
    "from sklearn.model_selection import train_test_split\n",
    "from sklearn.metrics import accuracy_score, confusion_matrix\n",
    "from sklearn.linear_model import LogisticRegression\n",
    "from sklearn.metrics import classification_report\n",
    "import warnings\n",
    "warnings.filterwarnings(\"ignore\")"
   ]
  },
  {
   "cell_type": "code",
   "execution_count": 3,
   "id": "af70257f",
   "metadata": {
    "execution": {
     "iopub.execute_input": "2022-11-02T04:32:00.009091Z",
     "iopub.status.busy": "2022-11-02T04:32:00.008674Z",
     "iopub.status.idle": "2022-11-02T04:32:00.047032Z",
     "shell.execute_reply": "2022-11-02T04:32:00.045677Z"
    },
    "papermill": {
     "duration": 0.048896,
     "end_time": "2022-11-02T04:32:00.049605",
     "exception": false,
     "start_time": "2022-11-02T04:32:00.000709",
     "status": "completed"
    },
    "tags": []
   },
   "outputs": [
    {
     "data": {
      "text/html": [
       "<div>\n",
       "<style scoped>\n",
       "    .dataframe tbody tr th:only-of-type {\n",
       "        vertical-align: middle;\n",
       "    }\n",
       "\n",
       "    .dataframe tbody tr th {\n",
       "        vertical-align: top;\n",
       "    }\n",
       "\n",
       "    .dataframe thead th {\n",
       "        text-align: right;\n",
       "    }\n",
       "</style>\n",
       "<table border=\"1\" class=\"dataframe\">\n",
       "  <thead>\n",
       "    <tr style=\"text-align: right;\">\n",
       "      <th></th>\n",
       "      <th>PassengerId</th>\n",
       "      <th>Survived</th>\n",
       "      <th>Pclass</th>\n",
       "      <th>Name</th>\n",
       "      <th>Sex</th>\n",
       "      <th>Age</th>\n",
       "      <th>SibSp</th>\n",
       "      <th>Parch</th>\n",
       "      <th>Ticket</th>\n",
       "      <th>Fare</th>\n",
       "      <th>Cabin</th>\n",
       "      <th>Embarked</th>\n",
       "    </tr>\n",
       "  </thead>\n",
       "  <tbody>\n",
       "    <tr>\n",
       "      <th>0</th>\n",
       "      <td>1</td>\n",
       "      <td>0</td>\n",
       "      <td>3</td>\n",
       "      <td>Braund, Mr. Owen Harris</td>\n",
       "      <td>male</td>\n",
       "      <td>22.0</td>\n",
       "      <td>1</td>\n",
       "      <td>0</td>\n",
       "      <td>A/5 21171</td>\n",
       "      <td>7.2500</td>\n",
       "      <td>NaN</td>\n",
       "      <td>S</td>\n",
       "    </tr>\n",
       "    <tr>\n",
       "      <th>1</th>\n",
       "      <td>2</td>\n",
       "      <td>1</td>\n",
       "      <td>1</td>\n",
       "      <td>Cumings, Mrs. John Bradley (Florence Briggs Th...</td>\n",
       "      <td>female</td>\n",
       "      <td>38.0</td>\n",
       "      <td>1</td>\n",
       "      <td>0</td>\n",
       "      <td>PC 17599</td>\n",
       "      <td>71.2833</td>\n",
       "      <td>C85</td>\n",
       "      <td>C</td>\n",
       "    </tr>\n",
       "    <tr>\n",
       "      <th>2</th>\n",
       "      <td>3</td>\n",
       "      <td>1</td>\n",
       "      <td>3</td>\n",
       "      <td>Heikkinen, Miss. Laina</td>\n",
       "      <td>female</td>\n",
       "      <td>26.0</td>\n",
       "      <td>0</td>\n",
       "      <td>0</td>\n",
       "      <td>STON/O2. 3101282</td>\n",
       "      <td>7.9250</td>\n",
       "      <td>NaN</td>\n",
       "      <td>S</td>\n",
       "    </tr>\n",
       "    <tr>\n",
       "      <th>3</th>\n",
       "      <td>4</td>\n",
       "      <td>1</td>\n",
       "      <td>1</td>\n",
       "      <td>Futrelle, Mrs. Jacques Heath (Lily May Peel)</td>\n",
       "      <td>female</td>\n",
       "      <td>35.0</td>\n",
       "      <td>1</td>\n",
       "      <td>0</td>\n",
       "      <td>113803</td>\n",
       "      <td>53.1000</td>\n",
       "      <td>C123</td>\n",
       "      <td>S</td>\n",
       "    </tr>\n",
       "    <tr>\n",
       "      <th>4</th>\n",
       "      <td>5</td>\n",
       "      <td>0</td>\n",
       "      <td>3</td>\n",
       "      <td>Allen, Mr. William Henry</td>\n",
       "      <td>male</td>\n",
       "      <td>35.0</td>\n",
       "      <td>0</td>\n",
       "      <td>0</td>\n",
       "      <td>373450</td>\n",
       "      <td>8.0500</td>\n",
       "      <td>NaN</td>\n",
       "      <td>S</td>\n",
       "    </tr>\n",
       "  </tbody>\n",
       "</table>\n",
       "</div>"
      ],
      "text/plain": [
       "   PassengerId  Survived  Pclass  \\\n",
       "0            1         0       3   \n",
       "1            2         1       1   \n",
       "2            3         1       3   \n",
       "3            4         1       1   \n",
       "4            5         0       3   \n",
       "\n",
       "                                                Name     Sex   Age  SibSp  \\\n",
       "0                            Braund, Mr. Owen Harris    male  22.0      1   \n",
       "1  Cumings, Mrs. John Bradley (Florence Briggs Th...  female  38.0      1   \n",
       "2                             Heikkinen, Miss. Laina  female  26.0      0   \n",
       "3       Futrelle, Mrs. Jacques Heath (Lily May Peel)  female  35.0      1   \n",
       "4                           Allen, Mr. William Henry    male  35.0      0   \n",
       "\n",
       "   Parch            Ticket     Fare Cabin Embarked  \n",
       "0      0         A/5 21171   7.2500   NaN        S  \n",
       "1      0          PC 17599  71.2833   C85        C  \n",
       "2      0  STON/O2. 3101282   7.9250   NaN        S  \n",
       "3      0            113803  53.1000  C123        S  \n",
       "4      0            373450   8.0500   NaN        S  "
      ]
     },
     "execution_count": 3,
     "metadata": {},
     "output_type": "execute_result"
    }
   ],
   "source": [
    "df = pd.read_csv(\"dataset/train.csv\")\n",
    "df.head()"
   ]
  },
  {
   "cell_type": "code",
   "execution_count": 40,
   "id": "4dd2d4e3",
   "metadata": {
    "execution": {
     "iopub.execute_input": "2022-11-02T04:32:00.068010Z",
     "iopub.status.busy": "2022-11-02T04:32:00.067626Z",
     "iopub.status.idle": "2022-11-02T04:32:00.093432Z",
     "shell.execute_reply": "2022-11-02T04:32:00.092272Z"
    },
    "papermill": {
     "duration": 0.038978,
     "end_time": "2022-11-02T04:32:00.095956",
     "exception": false,
     "start_time": "2022-11-02T04:32:00.056978",
     "status": "completed"
    },
    "tags": []
   },
   "outputs": [
    {
     "data": {
      "text/html": [
       "<div>\n",
       "<style scoped>\n",
       "    .dataframe tbody tr th:only-of-type {\n",
       "        vertical-align: middle;\n",
       "    }\n",
       "\n",
       "    .dataframe tbody tr th {\n",
       "        vertical-align: top;\n",
       "    }\n",
       "\n",
       "    .dataframe thead th {\n",
       "        text-align: right;\n",
       "    }\n",
       "</style>\n",
       "<table border=\"1\" class=\"dataframe\">\n",
       "  <thead>\n",
       "    <tr style=\"text-align: right;\">\n",
       "      <th></th>\n",
       "      <th>PassengerId</th>\n",
       "      <th>Pclass</th>\n",
       "      <th>Name</th>\n",
       "      <th>Sex</th>\n",
       "      <th>Age</th>\n",
       "      <th>SibSp</th>\n",
       "      <th>Parch</th>\n",
       "      <th>Ticket</th>\n",
       "      <th>Fare</th>\n",
       "      <th>Cabin</th>\n",
       "      <th>Embarked</th>\n",
       "    </tr>\n",
       "  </thead>\n",
       "  <tbody>\n",
       "    <tr>\n",
       "      <th>0</th>\n",
       "      <td>892</td>\n",
       "      <td>3</td>\n",
       "      <td>Kelly, Mr. James</td>\n",
       "      <td>male</td>\n",
       "      <td>34.5</td>\n",
       "      <td>0</td>\n",
       "      <td>0</td>\n",
       "      <td>330911</td>\n",
       "      <td>7.8292</td>\n",
       "      <td>NaN</td>\n",
       "      <td>Q</td>\n",
       "    </tr>\n",
       "    <tr>\n",
       "      <th>1</th>\n",
       "      <td>893</td>\n",
       "      <td>3</td>\n",
       "      <td>Wilkes, Mrs. James (Ellen Needs)</td>\n",
       "      <td>female</td>\n",
       "      <td>47.0</td>\n",
       "      <td>1</td>\n",
       "      <td>0</td>\n",
       "      <td>363272</td>\n",
       "      <td>7.0000</td>\n",
       "      <td>NaN</td>\n",
       "      <td>S</td>\n",
       "    </tr>\n",
       "    <tr>\n",
       "      <th>2</th>\n",
       "      <td>894</td>\n",
       "      <td>2</td>\n",
       "      <td>Myles, Mr. Thomas Francis</td>\n",
       "      <td>male</td>\n",
       "      <td>62.0</td>\n",
       "      <td>0</td>\n",
       "      <td>0</td>\n",
       "      <td>240276</td>\n",
       "      <td>9.6875</td>\n",
       "      <td>NaN</td>\n",
       "      <td>Q</td>\n",
       "    </tr>\n",
       "    <tr>\n",
       "      <th>3</th>\n",
       "      <td>895</td>\n",
       "      <td>3</td>\n",
       "      <td>Wirz, Mr. Albert</td>\n",
       "      <td>male</td>\n",
       "      <td>27.0</td>\n",
       "      <td>0</td>\n",
       "      <td>0</td>\n",
       "      <td>315154</td>\n",
       "      <td>8.6625</td>\n",
       "      <td>NaN</td>\n",
       "      <td>S</td>\n",
       "    </tr>\n",
       "    <tr>\n",
       "      <th>4</th>\n",
       "      <td>896</td>\n",
       "      <td>3</td>\n",
       "      <td>Hirvonen, Mrs. Alexander (Helga E Lindqvist)</td>\n",
       "      <td>female</td>\n",
       "      <td>22.0</td>\n",
       "      <td>1</td>\n",
       "      <td>1</td>\n",
       "      <td>3101298</td>\n",
       "      <td>12.2875</td>\n",
       "      <td>NaN</td>\n",
       "      <td>S</td>\n",
       "    </tr>\n",
       "  </tbody>\n",
       "</table>\n",
       "</div>"
      ],
      "text/plain": [
       "   PassengerId  Pclass                                          Name     Sex  \\\n",
       "0          892       3                              Kelly, Mr. James    male   \n",
       "1          893       3              Wilkes, Mrs. James (Ellen Needs)  female   \n",
       "2          894       2                     Myles, Mr. Thomas Francis    male   \n",
       "3          895       3                              Wirz, Mr. Albert    male   \n",
       "4          896       3  Hirvonen, Mrs. Alexander (Helga E Lindqvist)  female   \n",
       "\n",
       "    Age  SibSp  Parch   Ticket     Fare Cabin Embarked  \n",
       "0  34.5      0      0   330911   7.8292   NaN        Q  \n",
       "1  47.0      1      0   363272   7.0000   NaN        S  \n",
       "2  62.0      0      0   240276   9.6875   NaN        Q  \n",
       "3  27.0      0      0   315154   8.6625   NaN        S  \n",
       "4  22.0      1      1  3101298  12.2875   NaN        S  "
      ]
     },
     "execution_count": 40,
     "metadata": {},
     "output_type": "execute_result"
    }
   ],
   "source": [
    "df_test = pd.read_csv(\"dataset/test.csv\")\n",
    "df_test.head()\n"
   ]
  },
  {
   "cell_type": "code",
   "execution_count": 5,
   "id": "bdd76668",
   "metadata": {
    "execution": {
     "iopub.execute_input": "2022-11-02T04:32:00.118993Z",
     "iopub.status.busy": "2022-11-02T04:32:00.117995Z",
     "iopub.status.idle": "2022-11-02T04:32:00.129923Z",
     "shell.execute_reply": "2022-11-02T04:32:00.128802Z"
    },
    "papermill": {
     "duration": 0.02641,
     "end_time": "2022-11-02T04:32:00.132465",
     "exception": false,
     "start_time": "2022-11-02T04:32:00.106055",
     "status": "completed"
    },
    "tags": []
   },
   "outputs": [],
   "source": [
    "# print(df.columns)\n",
    "df.drop(columns =\"Ticket\", inplace=True)"
   ]
  },
  {
   "cell_type": "code",
   "execution_count": 6,
   "id": "98814735",
   "metadata": {
    "execution": {
     "iopub.execute_input": "2022-11-02T04:32:00.150998Z",
     "iopub.status.busy": "2022-11-02T04:32:00.150148Z",
     "iopub.status.idle": "2022-11-02T04:32:00.157889Z",
     "shell.execute_reply": "2022-11-02T04:32:00.156494Z"
    },
    "papermill": {
     "duration": 0.021036,
     "end_time": "2022-11-02T04:32:00.160798",
     "exception": false,
     "start_time": "2022-11-02T04:32:00.139762",
     "status": "completed"
    },
    "tags": []
   },
   "outputs": [],
   "source": [
    "df_test.drop(columns =\"Ticket\", inplace=True)\n"
   ]
  },
  {
   "cell_type": "code",
   "execution_count": 7,
   "id": "1014c7d4",
   "metadata": {
    "execution": {
     "iopub.execute_input": "2022-11-02T04:32:00.185547Z",
     "iopub.status.busy": "2022-11-02T04:32:00.185146Z",
     "iopub.status.idle": "2022-11-02T04:32:00.195354Z",
     "shell.execute_reply": "2022-11-02T04:32:00.194505Z"
    },
    "papermill": {
     "duration": 0.027142,
     "end_time": "2022-11-02T04:32:00.198197",
     "exception": false,
     "start_time": "2022-11-02T04:32:00.171055",
     "status": "completed"
    },
    "tags": []
   },
   "outputs": [],
   "source": [
    "df[\"Cabin\"] = df[\"Cabin\"].fillna(df[\"Cabin\"].mode()[0])\n",
    "df[\"Embarked\"] = df[\"Embarked\"].fillna(df[\"Embarked\"].mode()[0]) \n"
   ]
  },
  {
   "cell_type": "code",
   "execution_count": 8,
   "id": "065e4beb",
   "metadata": {
    "execution": {
     "iopub.execute_input": "2022-11-02T04:32:00.223542Z",
     "iopub.status.busy": "2022-11-02T04:32:00.222540Z",
     "iopub.status.idle": "2022-11-02T04:32:00.230471Z",
     "shell.execute_reply": "2022-11-02T04:32:00.229456Z"
    },
    "papermill": {
     "duration": 0.023604,
     "end_time": "2022-11-02T04:32:00.233360",
     "exception": false,
     "start_time": "2022-11-02T04:32:00.209756",
     "status": "completed"
    },
    "tags": []
   },
   "outputs": [],
   "source": [
    "df_test[\"Cabin\"] = df_test[\"Cabin\"].fillna(df_test[\"Cabin\"].mode()[0])\n",
    "df_test[\"Embarked\"] = df_test[\"Embarked\"].fillna(df_test[\"Embarked\"].mode()[0]) "
   ]
  },
  {
   "cell_type": "code",
   "execution_count": 9,
   "id": "0b90acde",
   "metadata": {
    "execution": {
     "iopub.execute_input": "2022-11-02T04:32:00.252957Z",
     "iopub.status.busy": "2022-11-02T04:32:00.252597Z",
     "iopub.status.idle": "2022-11-02T04:32:00.269558Z",
     "shell.execute_reply": "2022-11-02T04:32:00.268475Z"
    },
    "papermill": {
     "duration": 0.028238,
     "end_time": "2022-11-02T04:32:00.272161",
     "exception": false,
     "start_time": "2022-11-02T04:32:00.243923",
     "status": "completed"
    },
    "tags": []
   },
   "outputs": [],
   "source": [
    "df[\"Age\"] = df[\"Age\"].groupby([df[\"Pclass\"], df[\"Sex\"]]).apply(lambda x: x.fillna(x.mean()))\n"
   ]
  },
  {
   "cell_type": "code",
   "execution_count": 10,
   "id": "89ee73ac",
   "metadata": {
    "execution": {
     "iopub.execute_input": "2022-11-02T04:32:00.289197Z",
     "iopub.status.busy": "2022-11-02T04:32:00.288797Z",
     "iopub.status.idle": "2022-11-02T04:32:00.311178Z",
     "shell.execute_reply": "2022-11-02T04:32:00.309907Z"
    },
    "papermill": {
     "duration": 0.033662,
     "end_time": "2022-11-02T04:32:00.313740",
     "exception": false,
     "start_time": "2022-11-02T04:32:00.280078",
     "status": "completed"
    },
    "tags": []
   },
   "outputs": [],
   "source": [
    "df_test[\"Age\"] = df_test[\"Age\"].groupby([df_test[\"Pclass\"], df_test[\"Sex\"]]).apply(lambda x: x.fillna(x.mean()))"
   ]
  },
  {
   "cell_type": "code",
   "execution_count": 11,
   "id": "637b5706",
   "metadata": {
    "execution": {
     "iopub.execute_input": "2022-11-02T04:32:00.330978Z",
     "iopub.status.busy": "2022-11-02T04:32:00.330095Z",
     "iopub.status.idle": "2022-11-02T04:32:00.337610Z",
     "shell.execute_reply": "2022-11-02T04:32:00.336492Z"
    },
    "papermill": {
     "duration": 0.018498,
     "end_time": "2022-11-02T04:32:00.339804",
     "exception": false,
     "start_time": "2022-11-02T04:32:00.321306",
     "status": "completed"
    },
    "tags": []
   },
   "outputs": [],
   "source": [
    "df.drop(columns = \"Fare\", inplace = True)"
   ]
  },
  {
   "cell_type": "code",
   "execution_count": 12,
   "id": "fe5a57fe",
   "metadata": {
    "execution": {
     "iopub.execute_input": "2022-11-02T04:32:00.356266Z",
     "iopub.status.busy": "2022-11-02T04:32:00.355829Z",
     "iopub.status.idle": "2022-11-02T04:32:00.362289Z",
     "shell.execute_reply": "2022-11-02T04:32:00.361050Z"
    },
    "papermill": {
     "duration": 0.017415,
     "end_time": "2022-11-02T04:32:00.364560",
     "exception": false,
     "start_time": "2022-11-02T04:32:00.347145",
     "status": "completed"
    },
    "tags": []
   },
   "outputs": [],
   "source": [
    "df_test.drop(columns = \"Fare\", inplace = True)\n"
   ]
  },
  {
   "cell_type": "code",
   "execution_count": 13,
   "id": "45a81f23",
   "metadata": {
    "execution": {
     "iopub.execute_input": "2022-11-02T04:32:00.381015Z",
     "iopub.status.busy": "2022-11-02T04:32:00.380654Z",
     "iopub.status.idle": "2022-11-02T04:32:01.265278Z",
     "shell.execute_reply": "2022-11-02T04:32:01.263887Z"
    },
    "papermill": {
     "duration": 0.897866,
     "end_time": "2022-11-02T04:32:01.269922",
     "exception": false,
     "start_time": "2022-11-02T04:32:00.372056",
     "status": "completed"
    },
    "tags": []
   },
   "outputs": [
    {
     "data": {
      "image/png": "[encoded data removed]",
      "text/plain": [
       "<Figure size 432x288 with 1 Axes>"
      ]
     },
     "metadata": {
      "needs_background": "light"
     },
     "output_type": "display_data"
    },
    {
     "data": {
      "image/png": "[encoded data removed]",
      "text/plain": [
       "<Figure size 432x288 with 1 Axes>"
      ]
     },
     "metadata": {
      "needs_background": "light"
     },
     "output_type": "display_data"
    },
    {
     "data": {
      "image/png": "[encoded data removed]",
      "text/plain": [
       "<Figure size 432x288 with 1 Axes>"
      ]
     },
     "metadata": {
      "needs_background": "light"
     },
     "output_type": "display_data"
    },
    {
     "data": {
      "image/png": "[encoded data removed]",
      "text/plain": [
       "<Figure size 432x288 with 1 Axes>"
      ]
     },
     "metadata": {
      "needs_background": "light"
     },
     "output_type": "display_data"
    },
    {
     "data": {
      "image/png": "[encoded data removed]",
      "text/plain": [
       "<Figure size 432x288 with 1 Axes>"
      ]
     },
     "metadata": {
      "needs_background": "light"
     },
     "output_type": "display_data"
    },
    {
     "data": {
      "image/png": "[encoded data removed]",
      "text/plain": [
       "<Figure size 432x288 with 1 Axes>"
      ]
     },
     "metadata": {
      "needs_background": "light"
     },
     "output_type": "display_data"
    }
   ],
   "source": [
    "for i in df.select_dtypes(\"number\").columns:\n",
    "    \n",
    "    plt.figure()\n",
    "    plt.title(f'{i}')\n",
    "    plt.boxplot(df[i], vert=False);"
   ]
  },
  {
   "cell_type": "code",
   "execution_count": 14,
   "id": "1f7001ff",
   "metadata": {
    "execution": {
     "iopub.execute_input": "2022-11-02T04:32:01.294727Z",
     "iopub.status.busy": "2022-11-02T04:32:01.293643Z",
     "iopub.status.idle": "2022-11-02T04:32:01.302607Z",
     "shell.execute_reply": "2022-11-02T04:32:01.301596Z"
    },
    "papermill": {
     "duration": 0.024671,
     "end_time": "2022-11-02T04:32:01.305470",
     "exception": false,
     "start_time": "2022-11-02T04:32:01.280799",
     "status": "completed"
    },
    "tags": []
   },
   "outputs": [
    {
     "data": {
      "text/plain": [
       "(891, 9)"
      ]
     },
     "execution_count": 14,
     "metadata": {},
     "output_type": "execute_result"
    }
   ],
   "source": [
    "df.drop(columns = \"PassengerId\", inplace = True)\n",
    "df.shape"
   ]
  },
  {
   "cell_type": "code",
   "execution_count": 15,
   "id": "776411b3",
   "metadata": {
    "execution": {
     "iopub.execute_input": "2022-11-02T04:32:01.328774Z",
     "iopub.status.busy": "2022-11-02T04:32:01.327905Z",
     "iopub.status.idle": "2022-11-02T04:32:01.336447Z",
     "shell.execute_reply": "2022-11-02T04:32:01.335542Z"
    },
    "papermill": {
     "duration": 0.021138,
     "end_time": "2022-11-02T04:32:01.338709",
     "exception": false,
     "start_time": "2022-11-02T04:32:01.317571",
     "status": "completed"
    },
    "tags": []
   },
   "outputs": [
    {
     "data": {
      "text/plain": [
       "(418, 8)"
      ]
     },
     "execution_count": 15,
     "metadata": {},
     "output_type": "execute_result"
    }
   ],
   "source": [
    "df_test.drop(columns = \"PassengerId\", inplace = True)\n",
    "df_test.shape"
   ]
  },
  {
   "cell_type": "code",
   "execution_count": 16,
   "id": "3afc9c02",
   "metadata": {
    "execution": {
     "iopub.execute_input": "2022-11-02T04:32:01.359017Z",
     "iopub.status.busy": "2022-11-02T04:32:01.358082Z",
     "iopub.status.idle": "2022-11-02T04:32:01.365926Z",
     "shell.execute_reply": "2022-11-02T04:32:01.364593Z"
    },
    "papermill": {
     "duration": 0.020896,
     "end_time": "2022-11-02T04:32:01.368449",
     "exception": false,
     "start_time": "2022-11-02T04:32:01.347553",
     "status": "completed"
    },
    "tags": []
   },
   "outputs": [],
   "source": [
    "def outliers(df, ft):\n",
    "    Q1 = df[ft].quantile(0.25)\n",
    "    Q3 = df[ft].quantile(0.75)\n",
    "    IQR = Q3-Q1\n",
    "    \n",
    "    low = Q1 - 1.5 * IQR\n",
    "    top = Q3 + 1.5 * IQR\n",
    "    \n",
    "    ls = df.index[ (df[ft] < low ) |  (df[ft]  > top) ]\n",
    "    return ls"
   ]
  },
  {
   "cell_type": "code",
   "execution_count": 17,
   "id": "a18a0e26",
   "metadata": {
    "execution": {
     "iopub.execute_input": "2022-11-02T04:32:01.390397Z",
     "iopub.status.busy": "2022-11-02T04:32:01.390012Z",
     "iopub.status.idle": "2022-11-02T04:32:01.405943Z",
     "shell.execute_reply": "2022-11-02T04:32:01.404804Z"
    },
    "papermill": {
     "duration": 0.031103,
     "end_time": "2022-11-02T04:32:01.408780",
     "exception": false,
     "start_time": "2022-11-02T04:32:01.377677",
     "status": "completed"
    },
    "tags": []
   },
   "outputs": [],
   "source": [
    "index_list = []\n",
    "for i in [\"Pclass\", \"Age\",\"SibSp\", \"Parch\"]:\n",
    "    index_list.extend(outliers(df, i))\n"
   ]
  },
  {
   "cell_type": "code",
   "execution_count": 18,
   "id": "b8d080c5",
   "metadata": {
    "execution": {
     "iopub.execute_input": "2022-11-02T04:32:01.428942Z",
     "iopub.status.busy": "2022-11-02T04:32:01.428033Z",
     "iopub.status.idle": "2022-11-02T04:32:01.433684Z",
     "shell.execute_reply": "2022-11-02T04:32:01.432581Z"
    },
    "papermill": {
     "duration": 0.018005,
     "end_time": "2022-11-02T04:32:01.435778",
     "exception": false,
     "start_time": "2022-11-02T04:32:01.417773",
     "status": "completed"
    },
    "tags": []
   },
   "outputs": [],
   "source": [
    "def remove (df, ls):\n",
    "    ls = sorted(set(ls))\n",
    "    df = df.drop(ls)\n",
    "    return df\n"
   ]
  },
  {
   "cell_type": "code",
   "execution_count": 19,
   "id": "8f371818",
   "metadata": {
    "execution": {
     "iopub.execute_input": "2022-11-02T04:32:01.455893Z",
     "iopub.status.busy": "2022-11-02T04:32:01.454850Z",
     "iopub.status.idle": "2022-11-02T04:32:01.461552Z",
     "shell.execute_reply": "2022-11-02T04:32:01.460416Z"
    },
    "papermill": {
     "duration": 0.019239,
     "end_time": "2022-11-02T04:32:01.463934",
     "exception": false,
     "start_time": "2022-11-02T04:32:01.444695",
     "status": "completed"
    },
    "tags": []
   },
   "outputs": [],
   "source": [
    "df_new = remove(df, index_list)\n"
   ]
  },
  {
   "cell_type": "code",
   "execution_count": 20,
   "id": "6ae9757d",
   "metadata": {
    "execution": {
     "iopub.execute_input": "2022-11-02T04:32:01.482945Z",
     "iopub.status.busy": "2022-11-02T04:32:01.482512Z",
     "iopub.status.idle": "2022-11-02T04:32:01.490292Z",
     "shell.execute_reply": "2022-11-02T04:32:01.489141Z"
    },
    "papermill": {
     "duration": 0.019831,
     "end_time": "2022-11-02T04:32:01.492445",
     "exception": false,
     "start_time": "2022-11-02T04:32:01.472614",
     "status": "completed"
    },
    "tags": []
   },
   "outputs": [
    {
     "data": {
      "text/plain": [
       "(650, 9)"
      ]
     },
     "execution_count": 20,
     "metadata": {},
     "output_type": "execute_result"
    }
   ],
   "source": [
    "df_new.shape\n"
   ]
  },
  {
   "cell_type": "code",
   "execution_count": 21,
   "id": "d1d95f26",
   "metadata": {
    "execution": {
     "iopub.execute_input": "2022-11-02T04:32:01.511996Z",
     "iopub.status.busy": "2022-11-02T04:32:01.511110Z",
     "iopub.status.idle": "2022-11-02T04:32:01.519523Z",
     "shell.execute_reply": "2022-11-02T04:32:01.518283Z"
    },
    "papermill": {
     "duration": 0.022071,
     "end_time": "2022-11-02T04:32:01.523173",
     "exception": false,
     "start_time": "2022-11-02T04:32:01.501102",
     "status": "completed"
    },
    "tags": []
   },
   "outputs": [
    {
     "name": "stdout",
     "output_type": "stream",
     "text": [
      "0.62 0.38\n"
     ]
    }
   ],
   "source": [
    "majority_class, minority_class = round(df[\"Survived\"].value_counts(normalize = True),2)\n",
    "print(majority_class, minority_class)"
   ]
  },
  {
   "cell_type": "code",
   "execution_count": 22,
   "id": "390982f9",
   "metadata": {
    "execution": {
     "iopub.execute_input": "2022-11-02T04:32:01.545721Z",
     "iopub.status.busy": "2022-11-02T04:32:01.545346Z",
     "iopub.status.idle": "2022-11-02T04:32:01.551639Z",
     "shell.execute_reply": "2022-11-02T04:32:01.550271Z"
    },
    "papermill": {
     "duration": 0.020758,
     "end_time": "2022-11-02T04:32:01.553929",
     "exception": false,
     "start_time": "2022-11-02T04:32:01.533171",
     "status": "completed"
    },
    "tags": []
   },
   "outputs": [],
   "source": [
    "target = \"Survived\"\n",
    "X= df_new.drop(columns = target)\n",
    "y = df_new[target]"
   ]
  },
  {
   "cell_type": "code",
   "execution_count": 23,
   "id": "6669fb0c",
   "metadata": {
    "execution": {
     "iopub.execute_input": "2022-11-02T04:32:01.573555Z",
     "iopub.status.busy": "2022-11-02T04:32:01.573143Z",
     "iopub.status.idle": "2022-11-02T04:32:01.580179Z",
     "shell.execute_reply": "2022-11-02T04:32:01.579222Z"
    },
    "papermill": {
     "duration": 0.019754,
     "end_time": "2022-11-02T04:32:01.582427",
     "exception": false,
     "start_time": "2022-11-02T04:32:01.562673",
     "status": "completed"
    },
    "tags": []
   },
   "outputs": [],
   "source": [
    "X_train, x_test, y_train, y_test = train_test_split( X,y, test_size = 0.2, random_state = 42)\n"
   ]
  },
  {
   "cell_type": "code",
   "execution_count": 24,
   "id": "d8ac39b7",
   "metadata": {
    "execution": {
     "iopub.execute_input": "2022-11-02T04:32:01.602032Z",
     "iopub.status.busy": "2022-11-02T04:32:01.601561Z",
     "iopub.status.idle": "2022-11-02T04:32:01.605759Z",
     "shell.execute_reply": "2022-11-02T04:32:01.604940Z"
    },
    "papermill": {
     "duration": 0.016674,
     "end_time": "2022-11-02T04:32:01.607794",
     "exception": false,
     "start_time": "2022-11-02T04:32:01.591120",
     "status": "completed"
    },
    "tags": []
   },
   "outputs": [],
   "source": [
    "#logistic regression"
   ]
  },
  {
   "cell_type": "code",
   "execution_count": 25,
   "id": "fe8e38ac",
   "metadata": {
    "execution": {
     "iopub.execute_input": "2022-11-02T04:32:01.628075Z",
     "iopub.status.busy": "2022-11-02T04:32:01.627584Z",
     "iopub.status.idle": "2022-11-02T04:32:01.632750Z",
     "shell.execute_reply": "2022-11-02T04:32:01.631638Z"
    },
    "papermill": {
     "duration": 0.017702,
     "end_time": "2022-11-02T04:32:01.635138",
     "exception": false,
     "start_time": "2022-11-02T04:32:01.617436",
     "status": "completed"
    },
    "tags": []
   },
   "outputs": [],
   "source": [
    "from sklearn.pipeline import Pipeline, make_pipeline"
   ]
  },
  {
   "cell_type": "code",
   "execution_count": 26,
   "id": "4d3a2744",
   "metadata": {
    "execution": {
     "iopub.execute_input": "2022-11-02T04:32:01.654490Z",
     "iopub.status.busy": "2022-11-02T04:32:01.654040Z",
     "iopub.status.idle": "2022-11-02T04:32:01.918883Z",
     "shell.execute_reply": "2022-11-02T04:32:01.917399Z"
    },
    "papermill": {
     "duration": 0.290188,
     "end_time": "2022-11-02T04:32:01.934264",
     "exception": false,
     "start_time": "2022-11-02T04:32:01.644076",
     "status": "completed"
    },
    "tags": []
   },
   "outputs": [
    {
     "name": "stdout",
     "output_type": "stream",
     "text": [
      "              precision    recall  f1-score   support\n",
      "\n",
      "           0       0.81      0.86      0.84        81\n",
      "           1       0.75      0.67      0.71        49\n",
      "\n",
      "    accuracy                           0.79       130\n",
      "   macro avg       0.78      0.77      0.77       130\n",
      "weighted avg       0.79      0.79      0.79       130\n",
      "\n"
     ]
    },
    {
     "data": {
      "text/plain": [
       "0.7923076923076923"
      ]
     },
     "execution_count": 26,
     "metadata": {},
     "output_type": "execute_result"
    }
   ],
   "source": [
    "class1 = make_pipeline(OneHotEncoder(use_cat_names = True),LogisticRegression())\n",
    "class1.fit(X_train, y_train)\n",
    "y_pred1 = class1.predict(x_test)\n",
    "print(classification_report(y_test, y_pred1))\n",
    "accuracy_score(y_pred1, y_test)"
   ]
  },
  {
   "cell_type": "code",
   "execution_count": 34,
   "id": "c9b0b4d5",
   "metadata": {
    "execution": {
     "iopub.execute_input": "2022-11-02T04:32:02.033123Z",
     "iopub.status.busy": "2022-11-02T04:32:02.032757Z",
     "iopub.status.idle": "2022-11-02T04:32:02.068400Z",
     "shell.execute_reply": "2022-11-02T04:32:02.066599Z"
    },
    "papermill": {
     "duration": 0.049971,
     "end_time": "2022-11-02T04:32:02.071659",
     "exception": false,
     "start_time": "2022-11-02T04:32:02.021688",
     "status": "completed"
    },
    "tags": []
   },
   "outputs": [],
   "source": [
    "model = class1.predict(df_test)"
   ]
  },
  {
   "cell_type": "code",
   "execution_count": 44,
   "id": "1fdcfd26",
   "metadata": {
    "execution": {
     "iopub.execute_input": "2022-11-02T04:32:02.121130Z",
     "iopub.status.busy": "2022-11-02T04:32:02.120453Z",
     "iopub.status.idle": "2022-11-02T04:32:02.147465Z",
     "shell.execute_reply": "2022-11-02T04:32:02.145837Z"
    },
    "papermill": {
     "duration": 0.057894,
     "end_time": "2022-11-02T04:32:02.153066",
     "exception": false,
     "start_time": "2022-11-02T04:32:02.095172",
     "status": "completed"
    },
    "tags": []
   },
   "outputs": [],
   "source": [
    "pred = pd.DataFrame(model)\n",
    "sub_df = pd.read_csv(\"Predicted/Prediction.csv\")\n",
    "datasets = pd.concat([sub_df[\"PassengerId\"], pred], axis = 1)\n",
    "datasets.columns = [\"PassengerId\", \"Survived\"]\n",
    "datasets.to_csv('Predicted/Prediction.csv', index=False)\n"
   ]
  },
  {
   "cell_type": "code",
   "execution_count": null,
   "id": "a8e021cb",
   "metadata": {
    "papermill": {
     "duration": 0.011149,
     "end_time": "2022-11-02T04:32:02.187934",
     "exception": false,
     "start_time": "2022-11-02T04:32:02.176785",
     "status": "completed"
    },
    "tags": []
   },
   "outputs": [],
   "source": []
  }
 ],
 "metadata": {
  "kernelspec": {
   "display_name": "Python 3 (ipykernel)",
   "language": "python",
   "name": "python3"
  },
  "language_info": {
   "codemirror_mode": {
    "name": "ipython",
    "version": 3
   },
   "file_extension": ".py",
   "mimetype": "text/x-python",
   "name": "python",
   "nbconvert_exporter": "python",
   "pygments_lexer": "ipython3",
   "version": "3.10.4"
  },
  "papermill": {
   "default_parameters": {},
   "duration": 12.494916,
   "end_time": "2022-11-02T04:32:03.018899",
   "environment_variables": {},
   "exception": null,
   "input_path": "__notebook__.ipynb",
   "output_path": "__notebook__.ipynb",
   "parameters": {},
   "start_time": "2022-11-02T04:31:50.523983",
   "version": "2.3.4"
  }
 },
 "nbformat": 4,
 "nbformat_minor": 5
}
